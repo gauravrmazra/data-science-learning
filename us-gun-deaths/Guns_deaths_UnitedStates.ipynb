{
 "cells": [
  {
   "cell_type": "code",
   "execution_count": 9,
   "metadata": {
    "collapsed": false
   },
   "outputs": [],
   "source": [
    "import csv\n",
    "\n",
    "def read_csv(path):\n",
    "    with open(path, 'r') as f:\n",
    "       return list(csv.reader(f)) \n",
    "\n",
    "\n",
    "data = read_csv('git/data-science-learning/us-gun-deaths/guns.csv')"
   ]
  },
  {
   "cell_type": "code",
   "execution_count": 11,
   "metadata": {
    "collapsed": false
   },
   "outputs": [
    {
     "data": {
      "text/plain": [
       "[['',\n  'year',\n  'month',\n  'intent',\n  'police',\n  'sex',\n  'age',\n  'race',\n  'hispanic',\n  'place',\n  'education'],\n ['1',\n  '2012',\n  '01',\n  'Suicide',\n  '0',\n  'M',\n  '34',\n  'Asian/Pacific Islander',\n  '100',\n  'Home',\n  '4']]"
      ]
     },
     "execution_count": 11,
     "metadata": {},
     "output_type": "execute_result"
    }
   ],
   "source": [
    "data[:2]"
   ]
  },
  {
   "cell_type": "code",
   "execution_count": 17,
   "metadata": {
    "collapsed": true
   },
   "outputs": [],
   "source": [
    "## Extracting headers and data\n",
    "headers = data[0]\n",
    "data = data[1:]"
   ]
  },
  {
   "cell_type": "code",
   "execution_count": 18,
   "metadata": {
    "collapsed": false
   },
   "outputs": [
    {
     "data": {
      "text/plain": [
       "['1',\n '2012',\n '01',\n 'Suicide',\n '0',\n 'M',\n '34',\n 'Asian/Pacific Islander',\n '100',\n 'Home',\n '4']"
      ]
     },
     "execution_count": 18,
     "metadata": {},
     "output_type": "execute_result"
    }
   ],
   "source": [
    "# Check headers\n",
    "headers"
   ]
  },
  {
   "cell_type": "code",
   "execution_count": 19,
   "metadata": {
    "collapsed": false
   },
   "outputs": [
    {
     "data": {
      "text/plain": [
       "[['2', '2012', '01', 'Suicide', '0', 'F', '21', 'White', '100', 'Street', '3'],\n ['3',\n  '2012',\n  '01',\n  'Suicide',\n  '0',\n  'M',\n  '60',\n  'White',\n  '100',\n  'Other specified',\n  '4'],\n ['4', '2012', '02', 'Suicide', '0', 'M', '64', 'White', '100', 'Home', '4'],\n ['5',\n  '2012',\n  '02',\n  'Suicide',\n  '0',\n  'M',\n  '31',\n  'White',\n  '100',\n  'Other specified',\n  '2'],\n ['6',\n  '2012',\n  '02',\n  'Suicide',\n  '0',\n  'M',\n  '17',\n  'Native American/Native Alaskan',\n  '100',\n  'Home',\n  '1']]"
      ]
     },
     "execution_count": 19,
     "metadata": {},
     "output_type": "execute_result"
    }
   ],
   "source": [
    "# Print first five rows of data\n",
    "data[:5]"
   ]
  },
  {
   "cell_type": "code",
   "execution_count": 22,
   "metadata": {
    "collapsed": false
   },
   "outputs": [
    {
     "data": {
      "text/plain": [
       "['2012', '2012', '2012', '2012', '2012']"
      ]
     },
     "execution_count": 22,
     "metadata": {},
     "output_type": "execute_result"
    }
   ],
   "source": [
    "## Extracting years from data\n",
    "years = [d[1] for d in data]\n",
    "years[:5]"
   ]
  },
  {
   "cell_type": "code",
   "execution_count": 23,
   "metadata": {
    "collapsed": false
   },
   "outputs": [],
   "source": [
    "def counter(rows):\n",
    "    counts = {}\n",
    "    for row in rows:\n",
    "        if row in counts:\n",
    "            counts[row] = counts[row] + 1\n",
    "        else:\n",
    "            counts[row] = 1\n",
    "    return counts"
   ]
  },
  {
   "cell_type": "code",
   "execution_count": 24,
   "metadata": {
    "collapsed": false
   },
   "outputs": [],
   "source": [
    "year_counts = counter(years)"
   ]
  },
  {
   "cell_type": "code",
   "execution_count": 25,
   "metadata": {
    "collapsed": false
   },
   "outputs": [
    {
     "data": {
      "text/plain": [
       "{'2012': 33562, '2013': 33636, '2014': 33599}"
      ]
     },
     "execution_count": 25,
     "metadata": {},
     "output_type": "execute_result"
    }
   ],
   "source": [
    "year_counts"
   ]
  },
  {
   "cell_type": "code",
   "execution_count": 27,
   "metadata": {
    "collapsed": true
   },
   "outputs": [
    {
     "data": {
      "text/plain": [
       "[datetime.datetime(2012, 1, 1, 0, 0),\n datetime.datetime(2012, 1, 1, 0, 0),\n datetime.datetime(2012, 2, 1, 0, 0),\n datetime.datetime(2012, 2, 1, 0, 0),\n datetime.datetime(2012, 2, 1, 0, 0)]"
      ]
     },
     "execution_count": 27,
     "metadata": {},
     "output_type": "execute_result"
    }
   ],
   "source": [
    "import datetime\n",
    "dates = [datetime.datetime(year=int(d[1]), month=int(d[2]), day=1) for d in data]\n",
    "dates[:5]"
   ]
  },
  {
   "cell_type": "code",
   "execution_count": 28,
   "metadata": {
    "collapsed": false
   },
   "outputs": [
    {
     "data": {
      "text/plain": [
       "{datetime.datetime(2012, 1, 1, 0, 0): 2757,\n datetime.datetime(2012, 2, 1, 0, 0): 2357,\n datetime.datetime(2012, 3, 1, 0, 0): 2743,\n datetime.datetime(2012, 4, 1, 0, 0): 2795,\n datetime.datetime(2012, 5, 1, 0, 0): 2999,\n datetime.datetime(2012, 6, 1, 0, 0): 2826,\n datetime.datetime(2012, 7, 1, 0, 0): 3026,\n datetime.datetime(2012, 8, 1, 0, 0): 2954,\n datetime.datetime(2012, 9, 1, 0, 0): 2852,\n datetime.datetime(2012, 10, 1, 0, 0): 2733,\n datetime.datetime(2012, 11, 1, 0, 0): 2729,\n datetime.datetime(2012, 12, 1, 0, 0): 2791,\n datetime.datetime(2013, 1, 1, 0, 0): 2864,\n datetime.datetime(2013, 2, 1, 0, 0): 2375,\n datetime.datetime(2013, 3, 1, 0, 0): 2862,\n datetime.datetime(2013, 4, 1, 0, 0): 2798,\n datetime.datetime(2013, 5, 1, 0, 0): 2806,\n datetime.datetime(2013, 6, 1, 0, 0): 2920,\n datetime.datetime(2013, 7, 1, 0, 0): 3079,\n datetime.datetime(2013, 8, 1, 0, 0): 2859,\n datetime.datetime(2013, 9, 1, 0, 0): 2742,\n datetime.datetime(2013, 10, 1, 0, 0): 2808,\n datetime.datetime(2013, 11, 1, 0, 0): 2758,\n datetime.datetime(2013, 12, 1, 0, 0): 2765,\n datetime.datetime(2014, 1, 1, 0, 0): 2651,\n datetime.datetime(2014, 2, 1, 0, 0): 2361,\n datetime.datetime(2014, 3, 1, 0, 0): 2684,\n datetime.datetime(2014, 4, 1, 0, 0): 2862,\n datetime.datetime(2014, 5, 1, 0, 0): 2864,\n datetime.datetime(2014, 6, 1, 0, 0): 2931,\n datetime.datetime(2014, 7, 1, 0, 0): 2884,\n datetime.datetime(2014, 8, 1, 0, 0): 2970,\n datetime.datetime(2014, 9, 1, 0, 0): 2914,\n datetime.datetime(2014, 10, 1, 0, 0): 2865,\n datetime.datetime(2014, 11, 1, 0, 0): 2756,\n datetime.datetime(2014, 12, 1, 0, 0): 2857}"
      ]
     },
     "execution_count": 28,
     "metadata": {},
     "output_type": "execute_result"
    }
   ],
   "source": [
    "\n",
    "date_counts = counter(dates)\n",
    "date_counts"
   ]
  },
  {
   "cell_type": "code",
   "execution_count": 31,
   "metadata": {
    "collapsed": true
   },
   "outputs": [
    {
     "data": {
      "text/plain": [
       "{'F': 14449, 'M': 86348}"
      ]
     },
     "execution_count": 31,
     "metadata": {},
     "output_type": "execute_result"
    }
   ],
   "source": [
    "sex_counts = counter([d[5] for d in data])\n",
    "sex_counts"
   ]
  },
  {
   "cell_type": "code",
   "execution_count": 32,
   "metadata": {
    "collapsed": true
   },
   "outputs": [
    {
     "data": {
      "text/plain": [
       "{'White': 66237,\n 'Native American/Native Alaskan': 917,\n 'Black': 23296,\n 'Asian/Pacific Islander': 1325,\n 'Hispanic': 9022}"
      ]
     },
     "execution_count": 32,
     "metadata": {},
     "output_type": "execute_result"
    }
   ],
   "source": [
    "race_counts = counter([d[7] for d in data])\n",
    "race_counts"
   ]
  },
  {
   "cell_type": "markdown",
   "metadata": {},
   "source": [
    "We have explored `US gun-data` and analyzed:\n",
    "- yearly gun violence count\n",
    "- unique day-wise gun violence count \n",
    "- gun voilence by sex\n",
    "- gun voilence by race. \n",
    "\n",
    "Next steps: we can futher look gun voilence per race w.r.t. census data."
   ]
  },
  {
   "cell_type": "code",
   "execution_count": 35,
   "metadata": {
    "collapsed": true
   },
   "outputs": [
    {
     "data": {
      "text/plain": [
       "[['Id',\n  'Year',\n  'Id',\n  'Sex',\n  'Id',\n  'Hispanic Origin',\n  'Id',\n  'Id2',\n  'Geography',\n  'Total',\n  'Race Alone - White',\n  'Race Alone - Hispanic',\n  'Race Alone - Black or African American',\n  'Race Alone - American Indian and Alaska Native',\n  'Race Alone - Asian',\n  'Race Alone - Native Hawaiian and Other Pacific Islander',\n  'Two or More Races'],\n ['cen42010',\n  'April 1, 2010 Census',\n  'totsex',\n  'Both Sexes',\n  'tothisp',\n  'Total',\n  '0100000US',\n  '',\n  'United States',\n  '308745538',\n  '197318956',\n  '44618105',\n  '40250635',\n  '3739506',\n  '15159516',\n  '674625',\n  '6984195']]"
      ]
     },
     "execution_count": 35,
     "metadata": {},
     "output_type": "execute_result"
    }
   ],
   "source": [
    "census = read_csv('git/data-science-learning/us-gun-deaths/census.csv')\n",
    "census"
   ]
  },
  {
   "cell_type": "code",
   "execution_count": 36,
   "metadata": {
    "collapsed": true
   },
   "outputs": [
    {
     "data": {
      "text/plain": [
       "{'Asian/Pacific Islander': [14, 15],\n 'Black': [12],\n 'Hispanic': [11],\n 'Native American/Native Alaskan': [13],\n 'White': [9]}"
      ]
     },
     "execution_count": 36,
     "metadata": {},
     "output_type": "execute_result"
    }
   ],
   "source": [
    "mapping = {\n",
    "    'Asian/Pacific Islander': [14, 15],\n",
    "    'Black' : [12],\n",
    "    'Hispanic':[11],\n",
    "    'Native American/Native Alaskan': [13],\n",
    "    'White': [9]\n",
    "}\n",
    "mapping"
   ]
  },
  {
   "cell_type": "code",
   "execution_count": 48,
   "metadata": {
    "collapsed": false
   },
   "outputs": [],
   "source": [
    "## Function to calculate gun voilence by race per_persons passed\n",
    "def count_race_by_census_data(race_counts, per_persons):\n",
    "    race_per_persons = {}\n",
    "    for race_count in race_counts:\n",
    "        total_race_count = race_counts[race_count]\n",
    "        indexes = mapping[race_count]\n",
    "        total = 0\n",
    "        for index in indexes:\n",
    "            total += int(census[1][index])\n",
    "    \n",
    "        per_hk = (total_race_count / total) * per_persons\n",
    "        race_per_persons[race_count] = per_hk\n",
    "    return race_per_persons"
   ]
  },
  {
   "cell_type": "code",
   "execution_count": null,
   "metadata": {
    "collapsed": false
   },
   "outputs": [],
   "source": [
    "race_per_hundredk = count_race_by_census_data(race_counts, 100000)\n",
    "race_per_hundredk"
   ]
  },
  {
   "cell_type": "markdown",
   "metadata": {},
   "source": [
    "Let's calcuate gun voilence only where intent was Homicide"
   ]
  },
  {
   "cell_type": "code",
   "execution_count": 44,
   "metadata": {
    "collapsed": false
   },
   "outputs": [
    {
     "data": {
      "text/plain": [
       "['Suicide', 'Suicide', 'Suicide', 'Suicide', 'Suicide']"
      ]
     },
     "execution_count": 44,
     "metadata": {},
     "output_type": "execute_result"
    }
   ],
   "source": [
    "intents = [d[3] for d in data]\n",
    "intents[:5]"
   ]
  },
  {
   "cell_type": "code",
   "execution_count": 45,
   "metadata": {
    "collapsed": false
   },
   "outputs": [
    {
     "data": {
      "text/plain": [
       "['White', 'White', 'White', 'White', 'Native American/Native Alaskan']"
      ]
     },
     "execution_count": 45,
     "metadata": {},
     "output_type": "execute_result"
    }
   ],
   "source": [
    "races = [d[7] for d in data]\n",
    "races[:5]"
   ]
  },
  {
   "cell_type": "code",
   "execution_count": 46,
   "metadata": {},
   "outputs": [
    {
     "data": {
      "text/plain": [
       "{'White': 9147,\n 'Asian/Pacific Islander': 559,\n 'Black': 19510,\n 'Native American/Native Alaskan': 326,\n 'Hispanic': 5634}"
      ]
     },
     "execution_count": 46,
     "metadata": {},
     "output_type": "execute_result"
    }
   ],
   "source": [
    "homicide_race_counts = {}\n",
    "for i, race in enumerate(races):\n",
    "    if intents[i] == 'Homicide':\n",
    "        if race in homicide_race_counts:\n",
    "            homicide_race_counts[race] = homicide_race_counts[race] + 1\n",
    "        else:\n",
    "            homicide_race_counts[race] = 1\n",
    "            \n",
    "homicide_race_counts"
   ]
  },
  {
   "cell_type": "code",
   "execution_count": 47,
   "metadata": {},
   "outputs": [
    {
     "data": {
      "text/plain": [
       "{'White': 2.9626339085748987,\n 'Asian/Pacific Islander': 3.530346230970155,\n 'Black': 48.471284987180944,\n 'Native American/Native Alaskan': 8.717729026240365,\n 'Hispanic': 12.627161104219914}"
      ]
     },
     "execution_count": 47,
     "metadata": {},
     "output_type": "execute_result"
    }
   ],
   "source": [
    "homicide_race_per_hundredk = count_race_by_census_data(homicide_race_counts, 100000)\n",
    "homicide_race_per_hundredk"
   ]
  },
  {
   "cell_type": "code",
   "execution_count": null,
   "metadata": {},
   "outputs": [],
   "source": []
  }
 ],
 "metadata": {
  "kernelspec": {
   "display_name": "Python 3",
   "language": "python",
   "name": "python3"
  },
  "language_info": {
   "codemirror_mode": {
    "name": "ipython",
    "version": 3
   },
   "file_extension": ".py",
   "mimetype": "text/x-python",
   "name": "python",
   "nbconvert_exporter": "python",
   "pygments_lexer": "ipython3",
   "version": "3.4.3"
  }
 },
 "nbformat": 4,
 "nbformat_minor": 0
}
